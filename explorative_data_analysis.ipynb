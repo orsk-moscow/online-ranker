{
 "cells": [
  {
   "cell_type": "markdown",
   "metadata": {},
   "source": [
    "# Introduction\n",
    "This ipynb notebook shows the way I followed, faced the assignment's data for the first time. \n",
    "\n",
    "I followed advice and didn't not spend a lot of time for explorative data analysis on it and make only needed simple checks. \n"
   ]
  },
  {
   "cell_type": "markdown",
   "metadata": {},
   "source": [
    "First, let's see how much space the data takes on the hard disk drive. I ma going to use inline bash comands, thanks jupyter's magic, to get the file size in bytes:"
   ]
  },
  {
   "cell_type": "code",
   "execution_count": 1,
   "metadata": {},
   "outputs": [
    {
     "name": "stdout",
     "output_type": "stream",
     "text": [
      "130M\ts3/sessions.csv\n"
     ]
    }
   ],
   "source": [
    "!du -sh s3/sessions.csv"
   ]
  },
  {
   "cell_type": "code",
   "execution_count": 2,
   "metadata": {},
   "outputs": [
    {
     "name": "stdout",
     "output_type": "stream",
     "text": [
      " 92K\tcache/venues.csv\n"
     ]
    }
   ],
   "source": [
    "!du -sh cache/venues.csv"
   ]
  },
  {
   "cell_type": "markdown",
   "metadata": {},
   "source": [
    "Not very much space. So I make a decision to read the whole file into random access memory, using the simple pandas read_csv method. It couldn't cause any out of memory errors.\n",
    "\n",
    "Before that, I want to take a look inside of a data:"
   ]
  },
  {
   "cell_type": "code",
   "execution_count": 3,
   "metadata": {},
   "outputs": [
    {
     "name": "stdout",
     "output_type": "stream",
     "text": [
      ",purchased,session_id,position_in_list,venue_id,has_seen_venue_in_this_session,is_new_user,is_from_order_again,is_recommended\n",
      "3362,True,010befaf-c5aa-43ba-8561-a3e2ccab277b,0,1424193000929084737,True,False,True,False\n",
      "3363,False,010befaf-c5aa-43ba-8561-a3e2ccab277b,1,-1970346298375932149,False,False,True,False\n",
      "3364,False,010befaf-c5aa-43ba-8561-a3e2ccab277b,2,-3266889597638182283,False,False,False,False\n",
      "3365,False,010befaf-c5aa-43ba-8561-a3e2ccab277b,3,-1599030892486223118,False,False,False,False\n",
      "3366,False,010befaf-c5aa-43ba-8561-a3e2ccab277b,4,-1514693057066477057,False,False,False,False\n",
      "3367,False,010befaf-c5aa-43ba-8561-a3e2ccab277b,5,5188415623516897594,False,False,True,False\n",
      "3368,False,010befaf-c5aa-43ba-8561-a3e2ccab277b,6,-3853058847403276971,False,False,False,False\n",
      "3369,False,010befaf-c5aa-43ba-8561-a3e2ccab277b,7,5332634774045137434,False,False,True,False\n",
      "3370,False,010befaf-c5aa-43ba-8561-a3e2ccab277b,8,1007590810240705088,False,False,False,False\n"
     ]
    }
   ],
   "source": [
    "!head s3/sessions.csv"
   ]
  },
  {
   "cell_type": "code",
   "execution_count": 4,
   "metadata": {},
   "outputs": [
    {
     "name": "stdout",
     "output_type": "stream",
     "text": [
      ",venue_id,conversions_per_impression,price_range,rating,popularity,retention_rate\n",
      "0,1424193000929084737,0.4034916201117318,1,8.6,5.537811281291531,0.38496450000000004\n",
      "1,-1970346298375932149,0.1914396887159533,1,8.6,0.9660341183903789,0.2500005\n",
      "2,-3266889597638182283,0.27538177546568215,2,9.0,5.905066922300413,0.30422099999999996\n",
      "3,-1599030892486223118,0.060618556701030925,2,8.8,0.7547005381380858,0.31437149999999997\n",
      "4,-1514693057066477057,0.1709515859766277,2,9.2,5.506692230041323,0.32709750000000004\n",
      "5,5188415623516897594,0.5651188299817185,1,8.2,17.36076312483206,0.621054\n",
      "6,-3853058847403276971,0.4390477202678287,1,9.0,9.332084213889917,0.42274049999999996\n",
      "7,5332634774045137434,0.2117497886728656,1,8.8,1.4423698410277639,0.3639705\n",
      "8,1007590810240705088,0.15143496845104823,2,8.6,2.1768811230455274,0.29713649999999997\n"
     ]
    }
   ],
   "source": [
    "!head cache/venues.csv"
   ]
  },
  {
   "cell_type": "markdown",
   "metadata": {},
   "source": [
    "# Initialization\n",
    "In this section all needed libraries are imported. A very few libraries, needed to dive into data, fit a `baseline` ranker with minimal risk of overfitting, nothing special. \n",
    "\n",
    "I could spend more time here, but will do it for the next iteration of service."
   ]
  },
  {
   "cell_type": "code",
   "execution_count": 5,
   "metadata": {},
   "outputs": [],
   "source": [
    "from typing import NoReturn\n",
    "\n",
    "import pandas as pd\n",
    "from catboost import CatBoostRanker, Pool, cv\n",
    "from sklearn.model_selection import KFold\n",
    "\n",
    "from train.src.utils import prepare_datasets, train_and_evaluate, calculate_params"
   ]
  },
  {
   "cell_type": "code",
   "execution_count": 6,
   "metadata": {},
   "outputs": [],
   "source": [
    "def show_results(results: list[dict]) -> NoReturn:\n",
    "    \"\"\"This function prints the results of a cross-validation experiment for a ranking model.\n",
    "\n",
    "    Arguments:\n",
    "        results -- a list of dictionaries containing the best scores and feature importances for each fold.\n",
    "\n",
    "    Returns:\n",
    "        None. This function only prints the results to the standard output.\n",
    "    \"\"\"\n",
    "\n",
    "    # Extract the MAP@10 scores for the validation set from each fold: \n",
    "    map_10 = [result[\"best_score\"][\"validation\"][\"MAP:top=10\"] for result in results]\n",
    "    # Calculate the mean and standard deviation of the MAP@10 scores across all folds:\n",
    "    mean, std_dev = calculate_params(map_10)\n",
    "    print(\"\\n---\\n\")\n",
    "    # Print the summary statistics for the MAP@10 distribution:\n",
    "    print(\"MAP@10 distribution parameters:\")\n",
    "    print(f\"mean = {mean:.3f}, std_dev = {std_dev:.3f}\")\n",
    "    print(f\"95% confidence interval from {(mean-2*std_dev):.3f} to {(mean+2*std_dev):.3f}\")\n",
    "\n",
    "    for i, result in enumerate(results):\n",
    "        print(\"\\n---\\n\")\n",
    "\n",
    "        learn = result[\"best_score\"][\"learn\"][\"MAP:top=10\"]\n",
    "        validation = result[\"best_score\"][\"validation\"][\"MAP:top=10\"]\n",
    "\n",
    "        print(f\"Here are results for fold #{i+1} of {len(results)}:\")\n",
    "        print(f\"Best performer model hit MAP@10 {validation:.3f} for test data, {learn:.3f} for train data\")\n",
    "        print(\"\\n\")\n",
    "\n",
    "        feature_importances = result[\"feature_importances\"]\n",
    "        feature_importances = sorted(feature_importances.items(), key=lambda pair: pair[1], reverse=True)\n",
    "\n",
    "        print(\"Feature's importances from the most to the least:\\n\")\n",
    "        for feature, importance in feature_importances:\n",
    "            print(f\"importance: {importance:.2f}, feature: {feature}\")"
   ]
  },
  {
   "cell_type": "code",
   "execution_count": 7,
   "metadata": {},
   "outputs": [],
   "source": [
    "RANDOM_STATE = 21"
   ]
  },
  {
   "cell_type": "markdown",
   "metadata": {},
   "source": [
    "# Work with data "
   ]
  },
  {
   "cell_type": "code",
   "execution_count": 8,
   "metadata": {},
   "outputs": [],
   "source": [
    "df_sessions = pd.read_csv(\"s3/sessions.csv\", low_memory=False, index_col=0)\n",
    "df_venues = pd.read_csv(\"cache/venues.csv\", low_memory=False, index_col=0)"
   ]
  },
  {
   "cell_type": "code",
   "execution_count": 9,
   "metadata": {},
   "outputs": [
    {
     "data": {
      "text/html": [
       "<div>\n",
       "<style scoped>\n",
       "    .dataframe tbody tr th:only-of-type {\n",
       "        vertical-align: middle;\n",
       "    }\n",
       "\n",
       "    .dataframe tbody tr th {\n",
       "        vertical-align: top;\n",
       "    }\n",
       "\n",
       "    .dataframe thead th {\n",
       "        text-align: right;\n",
       "    }\n",
       "</style>\n",
       "<table border=\"1\" class=\"dataframe\">\n",
       "  <thead>\n",
       "    <tr style=\"text-align: right;\">\n",
       "      <th></th>\n",
       "      <th>purchased</th>\n",
       "      <th>session_id</th>\n",
       "      <th>position_in_list</th>\n",
       "      <th>venue_id</th>\n",
       "      <th>has_seen_venue_in_this_session</th>\n",
       "      <th>is_new_user</th>\n",
       "      <th>is_from_order_again</th>\n",
       "      <th>is_recommended</th>\n",
       "    </tr>\n",
       "  </thead>\n",
       "  <tbody>\n",
       "    <tr>\n",
       "      <th>3362</th>\n",
       "      <td>True</td>\n",
       "      <td>010befaf-c5aa-43ba-8561-a3e2ccab277b</td>\n",
       "      <td>0</td>\n",
       "      <td>1424193000929084737</td>\n",
       "      <td>True</td>\n",
       "      <td>False</td>\n",
       "      <td>True</td>\n",
       "      <td>False</td>\n",
       "    </tr>\n",
       "    <tr>\n",
       "      <th>3363</th>\n",
       "      <td>False</td>\n",
       "      <td>010befaf-c5aa-43ba-8561-a3e2ccab277b</td>\n",
       "      <td>1</td>\n",
       "      <td>-1970346298375932149</td>\n",
       "      <td>False</td>\n",
       "      <td>False</td>\n",
       "      <td>True</td>\n",
       "      <td>False</td>\n",
       "    </tr>\n",
       "    <tr>\n",
       "      <th>3364</th>\n",
       "      <td>False</td>\n",
       "      <td>010befaf-c5aa-43ba-8561-a3e2ccab277b</td>\n",
       "      <td>2</td>\n",
       "      <td>-3266889597638182283</td>\n",
       "      <td>False</td>\n",
       "      <td>False</td>\n",
       "      <td>False</td>\n",
       "      <td>False</td>\n",
       "    </tr>\n",
       "    <tr>\n",
       "      <th>3365</th>\n",
       "      <td>False</td>\n",
       "      <td>010befaf-c5aa-43ba-8561-a3e2ccab277b</td>\n",
       "      <td>3</td>\n",
       "      <td>-1599030892486223118</td>\n",
       "      <td>False</td>\n",
       "      <td>False</td>\n",
       "      <td>False</td>\n",
       "      <td>False</td>\n",
       "    </tr>\n",
       "    <tr>\n",
       "      <th>3366</th>\n",
       "      <td>False</td>\n",
       "      <td>010befaf-c5aa-43ba-8561-a3e2ccab277b</td>\n",
       "      <td>4</td>\n",
       "      <td>-1514693057066477057</td>\n",
       "      <td>False</td>\n",
       "      <td>False</td>\n",
       "      <td>False</td>\n",
       "      <td>False</td>\n",
       "    </tr>\n",
       "  </tbody>\n",
       "</table>\n",
       "</div>"
      ],
      "text/plain": [
       "      purchased                            session_id  position_in_list  \\\n",
       "3362       True  010befaf-c5aa-43ba-8561-a3e2ccab277b                 0   \n",
       "3363      False  010befaf-c5aa-43ba-8561-a3e2ccab277b                 1   \n",
       "3364      False  010befaf-c5aa-43ba-8561-a3e2ccab277b                 2   \n",
       "3365      False  010befaf-c5aa-43ba-8561-a3e2ccab277b                 3   \n",
       "3366      False  010befaf-c5aa-43ba-8561-a3e2ccab277b                 4   \n",
       "\n",
       "                 venue_id has_seen_venue_in_this_session  is_new_user  \\\n",
       "3362  1424193000929084737                           True        False   \n",
       "3363 -1970346298375932149                          False        False   \n",
       "3364 -3266889597638182283                          False        False   \n",
       "3365 -1599030892486223118                          False        False   \n",
       "3366 -1514693057066477057                          False        False   \n",
       "\n",
       "      is_from_order_again  is_recommended  \n",
       "3362                 True           False  \n",
       "3363                 True           False  \n",
       "3364                False           False  \n",
       "3365                False           False  \n",
       "3366                False           False  "
      ]
     },
     "execution_count": 9,
     "metadata": {},
     "output_type": "execute_result"
    }
   ],
   "source": [
    "df_sessions.head()"
   ]
  },
  {
   "cell_type": "code",
   "execution_count": 10,
   "metadata": {},
   "outputs": [
    {
     "data": {
      "text/plain": [
       "(1369807, 8)"
      ]
     },
     "execution_count": 10,
     "metadata": {},
     "output_type": "execute_result"
    }
   ],
   "source": [
    "df_sessions.shape"
   ]
  },
  {
   "cell_type": "code",
   "execution_count": 11,
   "metadata": {},
   "outputs": [
    {
     "data": {
      "text/html": [
       "<div>\n",
       "<style scoped>\n",
       "    .dataframe tbody tr th:only-of-type {\n",
       "        vertical-align: middle;\n",
       "    }\n",
       "\n",
       "    .dataframe tbody tr th {\n",
       "        vertical-align: top;\n",
       "    }\n",
       "\n",
       "    .dataframe thead th {\n",
       "        text-align: right;\n",
       "    }\n",
       "</style>\n",
       "<table border=\"1\" class=\"dataframe\">\n",
       "  <thead>\n",
       "    <tr style=\"text-align: right;\">\n",
       "      <th></th>\n",
       "      <th>venue_id</th>\n",
       "      <th>conversions_per_impression</th>\n",
       "      <th>price_range</th>\n",
       "      <th>rating</th>\n",
       "      <th>popularity</th>\n",
       "      <th>retention_rate</th>\n",
       "    </tr>\n",
       "  </thead>\n",
       "  <tbody>\n",
       "    <tr>\n",
       "      <th>0</th>\n",
       "      <td>1424193000929084737</td>\n",
       "      <td>0.403492</td>\n",
       "      <td>1</td>\n",
       "      <td>8.6</td>\n",
       "      <td>5.537811</td>\n",
       "      <td>0.384964</td>\n",
       "    </tr>\n",
       "    <tr>\n",
       "      <th>1</th>\n",
       "      <td>-1970346298375932149</td>\n",
       "      <td>0.191440</td>\n",
       "      <td>1</td>\n",
       "      <td>8.6</td>\n",
       "      <td>0.966034</td>\n",
       "      <td>0.250001</td>\n",
       "    </tr>\n",
       "    <tr>\n",
       "      <th>2</th>\n",
       "      <td>-3266889597638182283</td>\n",
       "      <td>0.275382</td>\n",
       "      <td>2</td>\n",
       "      <td>9.0</td>\n",
       "      <td>5.905067</td>\n",
       "      <td>0.304221</td>\n",
       "    </tr>\n",
       "    <tr>\n",
       "      <th>3</th>\n",
       "      <td>-1599030892486223118</td>\n",
       "      <td>0.060619</td>\n",
       "      <td>2</td>\n",
       "      <td>8.8</td>\n",
       "      <td>0.754701</td>\n",
       "      <td>0.314371</td>\n",
       "    </tr>\n",
       "    <tr>\n",
       "      <th>4</th>\n",
       "      <td>-1514693057066477057</td>\n",
       "      <td>0.170952</td>\n",
       "      <td>2</td>\n",
       "      <td>9.2</td>\n",
       "      <td>5.506692</td>\n",
       "      <td>0.327097</td>\n",
       "    </tr>\n",
       "  </tbody>\n",
       "</table>\n",
       "</div>"
      ],
      "text/plain": [
       "              venue_id  conversions_per_impression  price_range  rating  \\\n",
       "0  1424193000929084737                    0.403492            1     8.6   \n",
       "1 -1970346298375932149                    0.191440            1     8.6   \n",
       "2 -3266889597638182283                    0.275382            2     9.0   \n",
       "3 -1599030892486223118                    0.060619            2     8.8   \n",
       "4 -1514693057066477057                    0.170952            2     9.2   \n",
       "\n",
       "   popularity  retention_rate  \n",
       "0    5.537811        0.384964  \n",
       "1    0.966034        0.250001  \n",
       "2    5.905067        0.304221  \n",
       "3    0.754701        0.314371  \n",
       "4    5.506692        0.327097  "
      ]
     },
     "execution_count": 11,
     "metadata": {},
     "output_type": "execute_result"
    }
   ],
   "source": [
    "df_venues.head()"
   ]
  },
  {
   "cell_type": "markdown",
   "metadata": {},
   "source": [
    "Check if venue identificator unique inside the dataframe. It is important from the point of view - how to organize a cash database:"
   ]
  },
  {
   "cell_type": "code",
   "execution_count": 12,
   "metadata": {},
   "outputs": [
    {
     "data": {
      "text/plain": [
       "True"
      ]
     },
     "execution_count": 12,
     "metadata": {},
     "output_type": "execute_result"
    }
   ],
   "source": [
    "df_venues[\"venue_id\"].nunique() == df_venues.shape[0]"
   ]
  },
  {
   "cell_type": "markdown",
   "metadata": {},
   "source": [
    "Yes, identificators are unique. So, it could be a key for data scheme, and further process is selection of storage technology to save all venues' data will be described as a part of presentation. "
   ]
  },
  {
   "cell_type": "code",
   "execution_count": 13,
   "metadata": {},
   "outputs": [
    {
     "data": {
      "text/plain": [
       "4415"
      ]
     },
     "execution_count": 13,
     "metadata": {},
     "output_type": "execute_result"
    }
   ],
   "source": [
    "df_sessions.session_id.nunique()"
   ]
  },
  {
   "cell_type": "code",
   "execution_count": 14,
   "metadata": {},
   "outputs": [
    {
     "data": {
      "text/plain": [
       "eac7cdc2-6047-4dfe-896a-7abbd31bab12    2436\n",
       "922817cf-06eb-4593-90dd-bc9f658ce1f6    2420\n",
       "f5bc3cc1-bcd1-47ab-a249-b952c469f4a6    2420\n",
       "de874ff2-9db1-45b3-9e88-de621379c141    2348\n",
       "b8954892-7082-4cdb-a877-5ec701ef37dd    2340\n",
       "                                        ... \n",
       "e9f1051e-9f5a-459d-a05c-09388447c359      21\n",
       "89e66ad1-f7d5-4c81-9859-2448d1db7869      14\n",
       "58D77E89-C7C9-4AB8-896E-99215F7374FC      13\n",
       "579727F1-1348-4780-B41F-235182EE74D4      13\n",
       "FBC28911-DECF-4ABF-863F-C4DB415B677A      11\n",
       "Name: session_id, Length: 4415, dtype: int64"
      ]
     },
     "execution_count": 14,
     "metadata": {},
     "output_type": "execute_result"
    }
   ],
   "source": [
    "df_sessions.session_id.value_counts()"
   ]
  },
  {
   "cell_type": "code",
   "execution_count": 15,
   "metadata": {},
   "outputs": [
    {
     "data": {
      "text/html": [
       "<div>\n",
       "<style scoped>\n",
       "    .dataframe tbody tr th:only-of-type {\n",
       "        vertical-align: middle;\n",
       "    }\n",
       "\n",
       "    .dataframe tbody tr th {\n",
       "        vertical-align: top;\n",
       "    }\n",
       "\n",
       "    .dataframe thead th {\n",
       "        text-align: right;\n",
       "    }\n",
       "</style>\n",
       "<table border=\"1\" class=\"dataframe\">\n",
       "  <thead>\n",
       "    <tr style=\"text-align: right;\">\n",
       "      <th></th>\n",
       "      <th>purchased_in_session</th>\n",
       "      <th>num_of_sessions</th>\n",
       "    </tr>\n",
       "  </thead>\n",
       "  <tbody>\n",
       "    <tr>\n",
       "      <th>1</th>\n",
       "      <td>0</td>\n",
       "      <td>34</td>\n",
       "    </tr>\n",
       "    <tr>\n",
       "      <th>0</th>\n",
       "      <td>1</td>\n",
       "      <td>4367</td>\n",
       "    </tr>\n",
       "    <tr>\n",
       "      <th>3</th>\n",
       "      <td>2</td>\n",
       "      <td>1</td>\n",
       "    </tr>\n",
       "    <tr>\n",
       "      <th>2</th>\n",
       "      <td>4</td>\n",
       "      <td>13</td>\n",
       "    </tr>\n",
       "  </tbody>\n",
       "</table>\n",
       "</div>"
      ],
      "text/plain": [
       "   purchased_in_session  num_of_sessions\n",
       "1                     0               34\n",
       "0                     1             4367\n",
       "3                     2                1\n",
       "2                     4               13"
      ]
     },
     "execution_count": 15,
     "metadata": {},
     "output_type": "execute_result"
    }
   ],
   "source": [
    "df_sessions[[\"purchased\", \"session_id\",]].groupby(by=\"session_id\").agg(sum)[\"purchased\"].value_counts(\n",
    "    sort=False\n",
    ").reset_index().rename(\n",
    "    columns={\n",
    "        \"index\": \"purchased_in_session\",\n",
    "        \"purchased\": \"num_of_sessions\",\n",
    "    }\n",
    ").sort_values(\n",
    "    by=\"purchased_in_session\", ascending=True\n",
    ")"
   ]
  },
  {
   "cell_type": "markdown",
   "metadata": {},
   "source": [
    "Check that we could fetch a data from a sessions' venues for all the values. Yes, we can, the sets of venue_ids equals:"
   ]
  },
  {
   "cell_type": "code",
   "execution_count": 16,
   "metadata": {},
   "outputs": [
    {
     "data": {
      "text/plain": [
       "set()"
      ]
     },
     "execution_count": 16,
     "metadata": {},
     "output_type": "execute_result"
    }
   ],
   "source": [
    "set(df_sessions.venue_id) - set(df_venues.venue_id)"
   ]
  },
  {
   "cell_type": "code",
   "execution_count": 17,
   "metadata": {},
   "outputs": [
    {
     "data": {
      "text/plain": [
       "set()"
      ]
     },
     "execution_count": 17,
     "metadata": {},
     "output_type": "execute_result"
    }
   ],
   "source": [
    "set(df_venues.venue_id) - set(df_sessions.venue_id)"
   ]
  },
  {
   "cell_type": "code",
   "execution_count": 18,
   "metadata": {},
   "outputs": [
    {
     "data": {
      "text/plain": [
       "8"
      ]
     },
     "execution_count": 18,
     "metadata": {},
     "output_type": "execute_result"
    }
   ],
   "source": [
    "df_sessions.shape[1]"
   ]
  },
  {
   "cell_type": "markdown",
   "metadata": {},
   "source": [
    "Prepare a full dataset, that includes all possible data."
   ]
  },
  {
   "cell_type": "code",
   "execution_count": 19,
   "metadata": {},
   "outputs": [],
   "source": [
    "df_all = pd.merge(left=df_sessions, right=df_venues, left_on=\"venue_id\", right_on=\"venue_id\", how=\"left\")"
   ]
  },
  {
   "cell_type": "markdown",
   "metadata": {},
   "source": [
    "Simple quality checks:"
   ]
  },
  {
   "cell_type": "code",
   "execution_count": 20,
   "metadata": {},
   "outputs": [
    {
     "data": {
      "text/plain": [
       "True"
      ]
     },
     "execution_count": 20,
     "metadata": {},
     "output_type": "execute_result"
    }
   ],
   "source": [
    "df_sessions.shape[1] + df_venues.shape[1] - 1 == df_all.shape[1]"
   ]
  },
  {
   "cell_type": "code",
   "execution_count": 21,
   "metadata": {},
   "outputs": [
    {
     "data": {
      "text/plain": [
       "True"
      ]
     },
     "execution_count": 21,
     "metadata": {},
     "output_type": "execute_result"
    }
   ],
   "source": [
    "df_sessions.shape[0] == df_all.shape[0]"
   ]
  },
  {
   "cell_type": "code",
   "execution_count": 22,
   "metadata": {},
   "outputs": [],
   "source": [
    "df_all[\"purchased\"] = df_all.purchased.astype(int)"
   ]
  },
  {
   "cell_type": "code",
   "execution_count": 23,
   "metadata": {},
   "outputs": [],
   "source": [
    "df_all.sort_values(by=[\"session_id\", \"position_in_list\"], ascending=True, inplace=True)"
   ]
  },
  {
   "cell_type": "code",
   "execution_count": 24,
   "metadata": {},
   "outputs": [],
   "source": [
    "df_all.reset_index(drop=True, inplace=True)"
   ]
  },
  {
   "cell_type": "markdown",
   "metadata": {},
   "source": [
    "# Modelling"
   ]
  },
  {
   "cell_type": "code",
   "execution_count": 25,
   "metadata": {},
   "outputs": [],
   "source": [
    "del df_all[\"position_in_list\"]\n",
    "del df_all[\"venue_id\"]"
   ]
  },
  {
   "cell_type": "code",
   "execution_count": 26,
   "metadata": {},
   "outputs": [
    {
     "data": {
      "text/html": [
       "<div>\n",
       "<style scoped>\n",
       "    .dataframe tbody tr th:only-of-type {\n",
       "        vertical-align: middle;\n",
       "    }\n",
       "\n",
       "    .dataframe tbody tr th {\n",
       "        vertical-align: top;\n",
       "    }\n",
       "\n",
       "    .dataframe thead th {\n",
       "        text-align: right;\n",
       "    }\n",
       "</style>\n",
       "<table border=\"1\" class=\"dataframe\">\n",
       "  <thead>\n",
       "    <tr style=\"text-align: right;\">\n",
       "      <th></th>\n",
       "      <th>purchased</th>\n",
       "      <th>session_id</th>\n",
       "      <th>has_seen_venue_in_this_session</th>\n",
       "      <th>is_new_user</th>\n",
       "      <th>is_from_order_again</th>\n",
       "      <th>is_recommended</th>\n",
       "      <th>conversions_per_impression</th>\n",
       "      <th>price_range</th>\n",
       "      <th>rating</th>\n",
       "      <th>popularity</th>\n",
       "      <th>retention_rate</th>\n",
       "    </tr>\n",
       "  </thead>\n",
       "  <tbody>\n",
       "    <tr>\n",
       "      <th>0</th>\n",
       "      <td>0</td>\n",
       "      <td>0013B033-6B3E-4FDF-AFA1-3B1B1E830892</td>\n",
       "      <td>True</td>\n",
       "      <td>False</td>\n",
       "      <td>False</td>\n",
       "      <td>False</td>\n",
       "      <td>0.152793</td>\n",
       "      <td>1</td>\n",
       "      <td>9.4</td>\n",
       "      <td>0.897205</td>\n",
       "      <td>0.276595</td>\n",
       "    </tr>\n",
       "    <tr>\n",
       "      <th>1</th>\n",
       "      <td>0</td>\n",
       "      <td>0013B033-6B3E-4FDF-AFA1-3B1B1E830892</td>\n",
       "      <td>True</td>\n",
       "      <td>False</td>\n",
       "      <td>False</td>\n",
       "      <td>False</td>\n",
       "      <td>0.068783</td>\n",
       "      <td>2</td>\n",
       "      <td>10.0</td>\n",
       "      <td>0.194737</td>\n",
       "      <td>0.375000</td>\n",
       "    </tr>\n",
       "    <tr>\n",
       "      <th>2</th>\n",
       "      <td>0</td>\n",
       "      <td>0013B033-6B3E-4FDF-AFA1-3B1B1E830892</td>\n",
       "      <td>True</td>\n",
       "      <td>False</td>\n",
       "      <td>False</td>\n",
       "      <td>False</td>\n",
       "      <td>0.040000</td>\n",
       "      <td>1</td>\n",
       "      <td>NaN</td>\n",
       "      <td>1.713790</td>\n",
       "      <td>0.034091</td>\n",
       "    </tr>\n",
       "    <tr>\n",
       "      <th>3</th>\n",
       "      <td>0</td>\n",
       "      <td>0013B033-6B3E-4FDF-AFA1-3B1B1E830892</td>\n",
       "      <td>True</td>\n",
       "      <td>False</td>\n",
       "      <td>False</td>\n",
       "      <td>False</td>\n",
       "      <td>0.281423</td>\n",
       "      <td>3</td>\n",
       "      <td>8.8</td>\n",
       "      <td>16.555698</td>\n",
       "      <td>0.220719</td>\n",
       "    </tr>\n",
       "    <tr>\n",
       "      <th>4</th>\n",
       "      <td>0</td>\n",
       "      <td>0013B033-6B3E-4FDF-AFA1-3B1B1E830892</td>\n",
       "      <td>True</td>\n",
       "      <td>False</td>\n",
       "      <td>False</td>\n",
       "      <td>False</td>\n",
       "      <td>0.316285</td>\n",
       "      <td>1</td>\n",
       "      <td>9.2</td>\n",
       "      <td>4.036884</td>\n",
       "      <td>0.351399</td>\n",
       "    </tr>\n",
       "  </tbody>\n",
       "</table>\n",
       "</div>"
      ],
      "text/plain": [
       "   purchased                            session_id  \\\n",
       "0          0  0013B033-6B3E-4FDF-AFA1-3B1B1E830892   \n",
       "1          0  0013B033-6B3E-4FDF-AFA1-3B1B1E830892   \n",
       "2          0  0013B033-6B3E-4FDF-AFA1-3B1B1E830892   \n",
       "3          0  0013B033-6B3E-4FDF-AFA1-3B1B1E830892   \n",
       "4          0  0013B033-6B3E-4FDF-AFA1-3B1B1E830892   \n",
       "\n",
       "  has_seen_venue_in_this_session  is_new_user  is_from_order_again  \\\n",
       "0                           True        False                False   \n",
       "1                           True        False                False   \n",
       "2                           True        False                False   \n",
       "3                           True        False                False   \n",
       "4                           True        False                False   \n",
       "\n",
       "   is_recommended  conversions_per_impression  price_range  rating  \\\n",
       "0           False                    0.152793            1     9.4   \n",
       "1           False                    0.068783            2    10.0   \n",
       "2           False                    0.040000            1     NaN   \n",
       "3           False                    0.281423            3     8.8   \n",
       "4           False                    0.316285            1     9.2   \n",
       "\n",
       "   popularity  retention_rate  \n",
       "0    0.897205        0.276595  \n",
       "1    0.194737        0.375000  \n",
       "2    1.713790        0.034091  \n",
       "3   16.555698        0.220719  \n",
       "4    4.036884        0.351399  "
      ]
     },
     "execution_count": 26,
     "metadata": {},
     "output_type": "execute_result"
    }
   ],
   "source": [
    "df_all.head()"
   ]
  },
  {
   "cell_type": "code",
   "execution_count": 27,
   "metadata": {},
   "outputs": [],
   "source": [
    "sessions = df_all[\"session_id\"].unique()"
   ]
  },
  {
   "cell_type": "markdown",
   "metadata": {},
   "source": [
    "I have decided to choose CatBoost library for ranking the list of venues, because it allows out-of-box get strong baseline, and has a lot of possibilities to optimize model and metric under the hood, via params and possible grid search for them.\n",
    "\n",
    "Last, but not least, I know this library good enough."
   ]
  },
  {
   "cell_type": "code",
   "execution_count": 28,
   "metadata": {},
   "outputs": [],
   "source": [
    "ranker = CatBoostRanker(\n",
    "            loss_function=\"YetiRank\",\n",
    "            iterations=4000,\n",
    "            early_stopping_rounds=100,\n",
    "            random_state=RANDOM_STATE,\n",
    "            name=\"ranker' training\",\n",
    "            eval_metric=\"MAP:top=10\",\n",
    "            task_type=\"CPU\",\n",
    "            logging_level=\"Silent\",\n",
    "            use_best_model=True,\n",
    "            learning_rate=None,\n",
    "            random_strength=None,\n",
    "            ignored_features=None,\n",
    "            min_data_in_leaf=None,\n",
    "            min_child_samples=None,\n",
    "            diffusion_temperature=None,\n",
    "            bagging_temperature=2.0,\n",
    "            depth=None,\n",
    "        )"
   ]
  },
  {
   "cell_type": "markdown",
   "metadata": {},
   "source": [
    "One of the challenges of machine learning is to avoid overfitting, which means that the model learns too well from the training data and fails to generalize to new and unseen data. \n",
    "\n",
    "To prevent overfitting, I used cross-validation over some folds, which is a technique that splits the data into different subsets and trains and tests the model on each subset. \n",
    "\n",
    "For the first view of metrics, I choosed minimal folds (2) just to get fitted estimator for the shortest time. \n",
    "\n",
    "This means that I divided the data into two parts, one for training and one for testing, and repeated this process twice by switching the roles of the parts. \n",
    "\n",
    "This way, I could quickly get an idea of how well the model performs on different data and adjust the parameters accordingly."
   ]
  },
  {
   "cell_type": "code",
   "execution_count": 29,
   "metadata": {},
   "outputs": [
    {
     "name": "stdout",
     "output_type": "stream",
     "text": [
      "\n",
      "---\n",
      "\n",
      "MAP@10 distribution parameters:\n",
      "mean = 0.735, std_dev = 0.004\n",
      "95% confidence interval from 0.726 to 0.743\n",
      "\n",
      "---\n",
      "\n",
      "Here are results for fold #1 of 2:\n",
      "Best performer model hit MAP@10 0.730 for test data, 0.792 for train data\n",
      "\n",
      "\n",
      "Feature's importances from the most to the least:\n",
      "\n",
      "importance: 32.17, feature: has_seen_venue_in_this_session\n",
      "importance: 15.75, feature: popularity\n",
      "importance: 14.82, feature: conversions_per_impression\n",
      "importance: 14.07, feature: retention_rate\n",
      "importance: 11.23, feature: rating\n",
      "importance: 4.83, feature: price_range\n",
      "importance: 3.66, feature: is_from_order_again\n",
      "importance: 2.67, feature: is_recommended\n",
      "importance: 0.80, feature: is_new_user\n",
      "\n",
      "---\n",
      "\n",
      "Here are results for fold #2 of 2:\n",
      "Best performer model hit MAP@10 0.739 for test data, 0.779 for train data\n",
      "\n",
      "\n",
      "Feature's importances from the most to the least:\n",
      "\n",
      "importance: 34.26, feature: has_seen_venue_in_this_session\n",
      "importance: 15.20, feature: retention_rate\n",
      "importance: 15.11, feature: conversions_per_impression\n",
      "importance: 12.82, feature: popularity\n",
      "importance: 11.08, feature: rating\n",
      "importance: 4.15, feature: is_from_order_again\n",
      "importance: 4.06, feature: price_range\n",
      "importance: 2.87, feature: is_recommended\n",
      "importance: 0.44, feature: is_new_user\n"
     ]
    }
   ],
   "source": [
    "kf = KFold(n_splits=2, shuffle=True, random_state=RANDOM_STATE)\n",
    "results = []\n",
    "for train, test in kf.split(sessions):\n",
    "    sessions_train = set(sessions[train])\n",
    "    sessions_test = set(sessions[test])\n",
    "    df_train = df_all[df_all[\"session_id\"].isin(sessions_train)]\n",
    "    df_test = df_all[df_all[\"session_id\"].isin(sessions_test)]\n",
    "    train_set, eval_set, names = prepare_datasets(df_train, df_test)\n",
    "    res = train_and_evaluate(train_set, eval_set, names, ranker=ranker)\n",
    "    results.append(res)\n",
    "show_results(results)"
   ]
  },
  {
   "cell_type": "markdown",
   "metadata": {},
   "source": [
    "Surprisingly, very well values of MAP metric! \n",
    "\n",
    "Let's go deeper in our analysis of features importance.\n",
    "\n",
    "Here we see values of importances calculated via LossFunctionChange method, for each feature the value represents the difference between the loss value of the model with this feature and without it."
   ]
  },
  {
   "cell_type": "markdown",
   "metadata": {},
   "source": [
    "The most important feature is binary `has_seen_venue_in_this_session`, which has a significant impact on the model performance. \n",
    "\n",
    "The main problem is that this feature is not available for the moment of model serving: we don't know which venues the user has seen in the session.\n",
    "\n",
    "There are several options to solve this problem:\n",
    "1) remove this feature from the model,\n",
    "2) or use it as a feature for the next session. But the don't have enough data to train the model - there isn't any user_id field. \n",
    "\n",
    "That is why we can't use it in our model."
   ]
  },
  {
   "cell_type": "markdown",
   "metadata": {},
   "source": [
    "I made an assumption that the sessions implies a pre-calculated candidates, during an overnight batch job. \n",
    "\n",
    "So, the model should take a list of candidates and return a list of most relevant venues for a session.\n",
    "\n"
   ]
  },
  {
   "cell_type": "code",
   "execution_count": 30,
   "metadata": {},
   "outputs": [],
   "source": [
    "cols_reduced = list(df_all.columns)"
   ]
  },
  {
   "cell_type": "code",
   "execution_count": 31,
   "metadata": {},
   "outputs": [],
   "source": [
    "cols_reduced.remove(\"has_seen_venue_in_this_session\")"
   ]
  },
  {
   "cell_type": "markdown",
   "metadata": {},
   "source": [
    "I removed this feature from the model, and implemented a simple baseline model over 4 folds:"
   ]
  },
  {
   "cell_type": "code",
   "execution_count": 32,
   "metadata": {},
   "outputs": [
    {
     "name": "stdout",
     "output_type": "stream",
     "text": [
      "\n",
      "---\n",
      "\n",
      "MAP@10 distribution parameters:\n",
      "mean = 0.495, std_dev = 0.014\n",
      "95% confidence interval from 0.468 to 0.522\n",
      "\n",
      "---\n",
      "\n",
      "Here are results for fold #1 of 4:\n",
      "Best performer model hit MAP@10 0.493 for test data, 0.535 for train data\n",
      "\n",
      "\n",
      "Feature's importances from the most to the least:\n",
      "\n",
      "importance: 29.12, feature: popularity\n",
      "importance: 21.61, feature: conversions_per_impression\n",
      "importance: 17.61, feature: retention_rate\n",
      "importance: 14.65, feature: rating\n",
      "importance: 6.35, feature: is_from_order_again\n",
      "importance: 5.91, feature: price_range\n",
      "importance: 4.23, feature: is_recommended\n",
      "importance: 0.51, feature: is_new_user\n",
      "\n",
      "---\n",
      "\n",
      "Here are results for fold #2 of 4:\n",
      "Best performer model hit MAP@10 0.494 for test data, 0.527 for train data\n",
      "\n",
      "\n",
      "Feature's importances from the most to the least:\n",
      "\n",
      "importance: 20.25, feature: conversions_per_impression\n",
      "importance: 19.87, feature: popularity\n",
      "importance: 19.64, feature: retention_rate\n",
      "importance: 13.21, feature: rating\n",
      "importance: 11.68, feature: is_from_order_again\n",
      "importance: 7.40, feature: price_range\n",
      "importance: 7.26, feature: is_recommended\n",
      "importance: 0.70, feature: is_new_user\n",
      "\n",
      "---\n",
      "\n",
      "Here are results for fold #3 of 4:\n",
      "Best performer model hit MAP@10 0.515 for test data, 0.516 for train data\n",
      "\n",
      "\n",
      "Feature's importances from the most to the least:\n",
      "\n",
      "importance: 21.65, feature: popularity\n",
      "importance: 17.17, feature: retention_rate\n",
      "importance: 16.68, feature: conversions_per_impression\n",
      "importance: 14.96, feature: is_from_order_again\n",
      "importance: 13.06, feature: rating\n",
      "importance: 8.66, feature: is_recommended\n",
      "importance: 6.93, feature: price_range\n",
      "importance: 0.88, feature: is_new_user\n",
      "\n",
      "---\n",
      "\n",
      "Here are results for fold #4 of 4:\n",
      "Best performer model hit MAP@10 0.476 for test data, 0.533 for train data\n",
      "\n",
      "\n",
      "Feature's importances from the most to the least:\n",
      "\n",
      "importance: 22.37, feature: popularity\n",
      "importance: 20.71, feature: conversions_per_impression\n",
      "importance: 18.71, feature: retention_rate\n",
      "importance: 12.24, feature: rating\n",
      "importance: 11.53, feature: is_from_order_again\n",
      "importance: 7.17, feature: is_recommended\n",
      "importance: 6.87, feature: price_range\n",
      "importance: 0.40, feature: is_new_user\n"
     ]
    }
   ],
   "source": [
    "kf = KFold(n_splits=4, shuffle=True, random_state=RANDOM_STATE)\n",
    "results = []\n",
    "for train, test in kf.split(sessions):\n",
    "    sessions_train = set(sessions[train])\n",
    "    sessions_test = set(sessions[test])\n",
    "    df_train = df_all[df_all[\"session_id\"].isin(sessions_train)][cols_reduced]\n",
    "    df_test = df_all[df_all[\"session_id\"].isin(sessions_test)][cols_reduced]\n",
    "    train_set, eval_set, names = prepare_datasets(df_train, df_test)\n",
    "    res = train_and_evaluate(train_set, eval_set, names,ranker = ranker)\n",
    "    results.append(res)\n",
    "show_results(results)"
   ]
  },
  {
   "cell_type": "markdown",
   "metadata": {},
   "source": [
    "Nothing suspicious, the model is fitted and we save the best estimator to the file. It will be used in the next step, when we will prepare the model for serving."
   ]
  },
  {
   "cell_type": "code",
   "execution_count": 35,
   "metadata": {},
   "outputs": [],
   "source": [
    "best_iteration = max([result[\"best_score\"][\"validation\"][\"MAP:top=10\"] for result in results])\n",
    "for result in results:\n",
    "    if result[\"best_score\"][\"validation\"][\"MAP:top=10\"] == best_iteration:\n",
    "        best_ranker = result[\"model\"]\n",
    "best_ranker.save_model('./s3/weights.cbm')"
   ]
  },
  {
   "cell_type": "markdown",
   "metadata": {},
   "source": [
    "This notebook is used as a base for the \"production\" training pipeline, represented by the [ranker.py](train/src/ranker.py) file."
   ]
  },
  {
   "cell_type": "markdown",
   "metadata": {},
   "source": [
    "That is all for the training part. Now we can start to serve the model. \n"
   ]
  }
 ],
 "metadata": {
  "kernelspec": {
   "display_name": "Python 3 (ipykernel)",
   "language": "python",
   "name": "python3"
  },
  "language_info": {
   "codemirror_mode": {
    "name": "ipython",
    "version": 3
   },
   "file_extension": ".py",
   "mimetype": "text/x-python",
   "name": "python",
   "nbconvert_exporter": "python",
   "pygments_lexer": "ipython3",
   "version": "3.9.13"
  }
 },
 "nbformat": 4,
 "nbformat_minor": 4
}
